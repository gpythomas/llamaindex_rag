{
 "cells": [
  {
   "cell_type": "code",
   "execution_count": 23,
   "metadata": {},
   "outputs": [],
   "source": [
    "import os\n",
    "import requests\n",
    "import json"
   ]
  },
  {
   "cell_type": "code",
   "execution_count": 24,
   "metadata": {},
   "outputs": [],
   "source": [
    "OPENROUTER_API_KEY = os.environ[\"OPENROUTER_API_KEY\"]\n",
    "OPENROUTER_API_URL = 'https://openrouter.ai/api/v1'\n",
    "\n",
    "def fetch_openrouter_models():\n",
    "    headers = {\n",
    "        \"Authorization\": f\"Bearer {OPENROUTER_API_KEY}\"\n",
    "    }\n",
    "    response = requests.get(OPENROUTER_API_URL + '/models', headers=headers)\n",
    "    if response.status_code == 200:\n",
    "        return response.json().get(\"data\", [])\n",
    "    else:\n",
    "        raise Exception(f\"Failed to fetch models from OpenAI API: {response.status_code} {response.text}\")"
   ]
  },
  {
   "cell_type": "code",
   "execution_count": null,
   "metadata": {},
   "outputs": [],
   "source": [
    "fetch_openrouter_models()"
   ]
  },
  {
   "cell_type": "code",
   "execution_count": null,
   "metadata": {},
   "outputs": [],
   "source": [
    "# Define the base URL for the API\n",
    "BASE_URL = 'http://127.0.0.1:8080/v1'\n",
    "\n",
    "# Define the API key for authentication\n",
    "API_KEY = 'you_api_key_here'\n",
    "\n",
    "# Define headers with the API key\n",
    "headers = {\n",
    "    'Authorization': f'Bearer {API_KEY}',\n",
    "    'Content-Type': 'application/json'\n",
    "}\n",
    "\n",
    "# Function to test the /v1/models endpoint\n",
    "def test_get_models():\n",
    "    response = requests.get(f'{BASE_URL}/models', headers=headers)\n",
    "    if response.status_code == 200:\n",
    "        print(\"Models fetched successfully:\")\n",
    "        print(json.dumps(response.json(), indent=2))\n",
    "    else:\n",
    "        print(f\"Failed to fetch models: {response.status_code} {response.text}\")\n",
    "\n",
    "# Function to test the /v1/chat/completions endpoint\n",
    "def test_chat_completions():\n",
    "    data = {\n",
    "        \"model\": \"gpt-3.5-turbo\",\n",
    "        \"messages\": [\n",
    "            {\"role\": \"system\", \"content\": \"You are a helpful assistant.\"},\n",
    "            {\"role\": \"user\", \"content\": \"What is the weather like today?\"}\n",
    "        ],\n",
    "        \"max_tokens\": 150,\n",
    "        \"temperature\": 1.0,\n",
    "        \"top_p\": 1.0,\n",
    "        \"top_k\": 50,\n",
    "        \"frequency_penalty\": 0.0,\n",
    "        \"presence_penalty\": 0.0,\n",
    "        \"repetition_penalty\": 1.0,\n",
    "        \"min_p\": 0.0,\n",
    "        \"top_a\": 0.0\n",
    "    }\n",
    "\n",
    "    response = requests.post(f'{BASE_URL}/chat/completions', headers=headers, data=json.dumps(data))\n",
    "    if response.status_code == 200:\n",
    "        print(\"Chat completion response:\")\n",
    "        print(json.dumps(response.json(), indent=2))\n",
    "    else:\n",
    "        print(f\"Failed to get chat completion: {response.status_code} {response.text}\")\n",
    "\n",
    "# Run the tests\n",
    "if __name__ == '__main__':\n",
    "    print(\"Testing /v1/models endpoint...\")\n",
    "    test_get_models()\n",
    "    print(\"\\nTesting /v1/chat/completions endpoint...\")\n",
    "    test_chat_completions()\n"
   ]
  },
  {
   "cell_type": "code",
   "execution_count": null,
   "metadata": {},
   "outputs": [],
   "source": [
    "# Check that an OpenAI client can connect to the API\n",
    "\n",
    "from openai import OpenAI\n",
    "\n",
    "client = OpenAI(\n",
    "    api_key=\"you_api_key_here\",\n",
    "    base_url=\"http://127.0.0.1:8080/v1\",\n",
    ")\n",
    "\n",
    "response = client.chat.completions.create(\n",
    "    model=\"microsoft/wizardlm-2-8x22b\",\n",
    "    messages=[{\"role\": \"user\", \"content\": \"Hi!\"}],\n",
    "    stream=False,\n",
    ")\n",
    "\n",
    "print(response.choices[0].message.content)"
   ]
  },
  {
   "cell_type": "code",
   "execution_count": null,
   "metadata": {},
   "outputs": [],
   "source": [
    "# Check CORS configuration\n",
    "\n",
    "url = \"http://localhost:8080/v1/chat/completions\"\n",
    "headers = {\n",
    "    \"Access-Control-Request-Method\": \"POST\",\n",
    "    \"Access-Control-Request-Headers\": \"Content-Type, Authorization\",\n",
    "    \"Origin\": \"http://example.com\"\n",
    "}\n",
    "\n",
    "response = requests.options(url, headers=headers)\n",
    "\n",
    "print(\"Status Code:\", response.status_code)\n",
    "print(\"Headers:\", response.headers)\n",
    "\n",
    "if response.status_code == 200:\n",
    "    print(\"CORS preflight request successful.\")\n",
    "    print(\"Access-Control-Allow-Origin:\", response.headers.get(\"Access-Control-Allow-Origin\"))\n",
    "    print(\"Access-Control-Allow-Methods:\", response.headers.get(\"Access-Control-Allow-Methods\"))\n",
    "    print(\"Access-Control-Allow-Headers:\", response.headers.get(\"Access-Control-Allow-Headers\"))\n",
    "else:\n",
    "    print(\"CORS preflight request failed.\")"
   ]
  }
 ],
 "metadata": {
  "kernelspec": {
   "display_name": "venv",
   "language": "python",
   "name": "python3"
  },
  "language_info": {
   "codemirror_mode": {
    "name": "ipython",
    "version": 3
   },
   "file_extension": ".py",
   "mimetype": "text/x-python",
   "name": "python",
   "nbconvert_exporter": "python",
   "pygments_lexer": "ipython3",
   "version": "3.11.3"
  }
 },
 "nbformat": 4,
 "nbformat_minor": 2
}
