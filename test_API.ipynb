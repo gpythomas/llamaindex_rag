{
 "cells": [
  {
   "cell_type": "code",
   "execution_count": 1,
   "metadata": {},
   "outputs": [],
   "source": [
    "import os\n",
    "import requests\n",
    "import json"
   ]
  },
  {
   "cell_type": "code",
   "execution_count": 2,
   "metadata": {},
   "outputs": [],
   "source": [
    "# Define the base URL for the API\n",
    "BASE_URL = 'http://127.0.0.1:8080/v1'\n",
    "\n",
    "# Define the API key for authentication\n",
    "API_KEY = 'my_chat_server_key'\n",
    "\n",
    "# Define headers with the API key\n",
    "headers = {\n",
    "    'Authorization': f'Bearer {API_KEY}',\n",
    "    'Content-Type': 'application/json'\n",
    "}\n",
    "\n",
    "# Function to test the /v1/models endpoint\n",
    "def test_get_models():\n",
    "    response = requests.get(f'{BASE_URL}/models', headers=headers)\n",
    "    if response.status_code == 200:\n",
    "        print(\"Models fetched successfully:\")\n",
    "        print(json.dumps(response.json(), indent=2))\n",
    "    else:\n",
    "        print(f\"Failed to fetch models: {response.status_code} {response.text}\")\n",
    "\n",
    "# Function to test the /v1/chat/completions endpoint\n",
    "def test_chat_completions():\n",
    "    data = {\n",
    "        \"model\": \"microsoft/wizardlm-2-8x22b\",\n",
    "        \"messages\": [\n",
    "            {\"role\": \"system\", \"content\": \"You are a helpful assistant.\"},\n",
    "            {\"role\": \"user\", \"content\": \"Let's chat! What can we talk about?\"},\n",
    "            {\"role\": \"assistant\", \"content\": \"Ask me about Pacas!\"},\n",
    "            {\"role\": \"user\", \"content\": \"What are Pacas?\"},\n",
    "        ],\n",
    "        \"max_tokens\": 150,\n",
    "        \"temperature\": 1.0,\n",
    "        \"top_p\": 1.0,\n",
    "        \"top_k\": 50,\n",
    "        \"frequency_penalty\": 0.0,\n",
    "        \"presence_penalty\": 0.0,\n",
    "        \"repetition_penalty\": 1.0,\n",
    "        \"min_p\": 0.0,\n",
    "        \"top_a\": 0.0\n",
    "    }\n",
    "\n",
    "    response = requests.post(f'{BASE_URL}/chat/completions', headers=headers, data=json.dumps(data))\n",
    "    if response.status_code == 200:\n",
    "        print(\"Chat completion response:\")\n",
    "        print(json.dumps(response.json(), indent=2))\n",
    "    else:\n",
    "        print(f\"Failed to get chat completion: {response.status_code} {response.text}\")\n"
   ]
  },
  {
   "cell_type": "code",
   "execution_count": null,
   "metadata": {},
   "outputs": [],
   "source": [
    "test_get_models()"
   ]
  },
  {
   "cell_type": "code",
   "execution_count": 5,
   "metadata": {},
   "outputs": [
    {
     "name": "stdout",
     "output_type": "stream",
     "text": [
      "Chat completion response:\n",
      "{\n",
      "  \"choices\": [\n",
      "    {\n",
      "      \"finish_reason\": \"stop\",\n",
      "      \"index\": 0,\n",
      "      \"message\": {\n",
      "        \"content\": \"Pacas are large, ground-dwelling rodents native to South and Central America. They are the only members of the genus Cuniculus and the family Cuniculidae. These herbivorous animals have a distinctive appearance with dots and stripes on their sides, in addition to short ears and barely visible tails. They are known for their ability to swim and can stay underwater for up to 15 minutes to escape predators. They are also strong jumpers, capable of leaping up to 1 meter in\",\n",
      "        \"role\": \"assistant\"\n",
      "      }\n",
      "    }\n",
      "  ],\n",
      "  \"created\": 1724900716,\n",
      "  \"id\": \"84a24a69-8591-444f-97a5-0cda91be30dc\",\n",
      "  \"model\": \"microsoft/wizardlm-2-8x22b\",\n",
      "  \"object\": \"chat.completion\"\n",
      "}\n"
     ]
    }
   ],
   "source": [
    "test_chat_completions()"
   ]
  },
  {
   "cell_type": "code",
   "execution_count": 6,
   "metadata": {},
   "outputs": [
    {
     "name": "stdout",
     "output_type": "stream",
     "text": [
      "Pacas are rodents native to South and Central America, belonging to the genus Cuniculus, which is the only genus within the family Cuniculidae. They are known for their distinctive appearance, characterized by dots and stripes on their sides, short ears, and almost invisible tails. Pacas are well-adapted to their environment, particularly near water sources, as they are excellent swimmers. They have an interesting defense mechanism, being able to dive and remain underwater for up to\n"
     ]
    }
   ],
   "source": [
    "# Check that an OpenAI client can connect to the API\n",
    "\n",
    "from openai import OpenAI\n",
    "\n",
    "client = OpenAI(\n",
    "    api_key=API_KEY,\n",
    "    base_url=BASE_URL,\n",
    ")\n",
    "\n",
    "response = client.chat.completions.create(\n",
    "    model=\"microsoft/wizardlm-2-8x22b\",\n",
    "    messages=[\n",
    "            {\"role\": \"system\", \"content\": \"You are a helpful assistant.\"},\n",
    "            {\"role\": \"user\", \"content\": \"Let's chat! What can we talk about?\"},\n",
    "            {\"role\": \"assistant\", \"content\": \"Ask me about Pacas!\"},\n",
    "            {\"role\": \"user\", \"content\": \"What are Pacas?\"}\n",
    "        ],\n",
    "    stream=False,\n",
    ")\n",
    "\n",
    "print(response.choices[0].message.content)"
   ]
  },
  {
   "cell_type": "code",
   "execution_count": 7,
   "metadata": {},
   "outputs": [
    {
     "name": "stdout",
     "output_type": "stream",
     "text": [
      "Status Code: 200\n",
      "Headers: {'Server': 'Werkzeug/3.0.4 Python/3.11.3', 'Date': 'Thu, 29 Aug 2024 03:05:41 GMT', 'Content-Type': 'application/json', 'Content-Length': '21', 'Access-Control-Allow-Origin': 'http://example.com', 'Access-Control-Allow-Headers': 'Authorization, Content-Type', 'Access-Control-Allow-Methods': 'DELETE, GET, HEAD, OPTIONS, PATCH, POST, PUT', 'Vary': 'Origin', 'Connection': 'close'}\n",
      "CORS preflight request successful.\n",
      "Access-Control-Allow-Origin: http://example.com\n",
      "Access-Control-Allow-Methods: DELETE, GET, HEAD, OPTIONS, PATCH, POST, PUT\n",
      "Access-Control-Allow-Headers: Authorization, Content-Type\n"
     ]
    }
   ],
   "source": [
    "# Check CORS configuration\n",
    "\n",
    "url = \"http://localhost:8080/v1/chat/completions\"\n",
    "headers = {\n",
    "    \"Access-Control-Request-Method\": \"POST\",\n",
    "    \"Access-Control-Request-Headers\": \"Content-Type, Authorization\",\n",
    "    \"Origin\": \"http://example.com\"\n",
    "}\n",
    "\n",
    "response = requests.options(url, headers=headers)\n",
    "\n",
    "print(\"Status Code:\", response.status_code)\n",
    "print(\"Headers:\", response.headers)\n",
    "\n",
    "if response.status_code == 200:\n",
    "    print(\"CORS preflight request successful.\")\n",
    "    print(\"Access-Control-Allow-Origin:\", response.headers.get(\"Access-Control-Allow-Origin\"))\n",
    "    print(\"Access-Control-Allow-Methods:\", response.headers.get(\"Access-Control-Allow-Methods\"))\n",
    "    print(\"Access-Control-Allow-Headers:\", response.headers.get(\"Access-Control-Allow-Headers\"))\n",
    "else:\n",
    "    print(\"CORS preflight request failed.\")"
   ]
  }
 ],
 "metadata": {
  "kernelspec": {
   "display_name": "venv",
   "language": "python",
   "name": "python3"
  },
  "language_info": {
   "codemirror_mode": {
    "name": "ipython",
    "version": 3
   },
   "file_extension": ".py",
   "mimetype": "text/x-python",
   "name": "python",
   "nbconvert_exporter": "python",
   "pygments_lexer": "ipython3",
   "version": "3.11.3"
  }
 },
 "nbformat": 4,
 "nbformat_minor": 2
}
