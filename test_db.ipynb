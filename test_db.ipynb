{
 "cells": [
  {
   "cell_type": "code",
   "execution_count": 1,
   "metadata": {},
   "outputs": [],
   "source": [
    "import os\n",
    "\n",
    "import openai\n",
    "from llama_index.embeddings.openai import OpenAIEmbedding\n",
    "\n",
    "import chromadb\n",
    "from llama_index.core import VectorStoreIndex, SimpleDirectoryReader\n",
    "from llama_index.vector_stores.chroma import ChromaVectorStore # pip install llama-index-vector-stores-chroma\n",
    "from llama_index.core import StorageContext\n",
    "from llama_index.core import Settings"
   ]
  },
  {
   "cell_type": "code",
   "execution_count": 2,
   "metadata": {},
   "outputs": [],
   "source": [
    "# https://docs.llamaindex.ai/en/stable/module_guides/models/embeddings/\n",
    "# https://docs.llamaindex.ai/en/stable/examples/embeddings/OpenAI/\n",
    "\n",
    "openai.api_key = os.environ[\"OPENAI_API_KEY\"]\n",
    "embed_model = OpenAIEmbedding(model=\"text-embedding-3-small\")\n",
    "\n",
    "# initialize index\n",
    "index = None\n",
    "def initialize_index():\n",
    "    global index\n",
    "    collection_name = \"MyCollection\"\n",
    "    db = chromadb.PersistentClient(path=\"./chroma_db\")\n",
    "    chroma_collection = db.get_or_create_collection(collection_name)\n",
    "    vector_store = ChromaVectorStore(chroma_collection=chroma_collection)\n",
    "    index = VectorStoreIndex.from_vector_store(\n",
    "        vector_store = vector_store,\n",
    "        embed_model=embed_model\n",
    "    )\n",
    "\n",
    "initialize_index()"
   ]
  },
  {
   "cell_type": "code",
   "execution_count": 3,
   "metadata": {},
   "outputs": [
    {
     "name": "stdout",
     "output_type": "stream",
     "text": [
      "The documents in the database contain information about the potential use of the paca as a food supply for people in the tropics and the evolutionary background of the paca species, including their origin in South America and their migration to North America after the Great American Interchange.\n"
     ]
    }
   ],
   "source": [
    "# test simple queries of database\n",
    "\n",
    "query_engine = index.as_query_engine()\n",
    "response = query_engine.query(\"What kind of documents are in your database?\")\n",
    "print(response)\n"
   ]
  },
  {
   "cell_type": "code",
   "execution_count": 4,
   "metadata": {},
   "outputs": [],
   "source": [
    "# test chat with database\n",
    "\n",
    "# https://docs.llamaindex.ai/en/stable/examples/chat_engine/chat_engine_openai/\n",
    "\n",
    "from llama_index.llms.openai import OpenAI\n",
    "\n",
    "llm = OpenAI(model=\"gpt-4o\")\n",
    "\n",
    "system_prompt = 'You are a helpful and friendly chatbot.'\n",
    "\n",
    "chat_engine = index.as_chat_engine(\n",
    "    chat_mode=\"openai\",\n",
    "    llm=llm,\n",
    "    system_prompt = system_prompt,\n",
    "    verbose=True\n",
    ")"
   ]
  },
  {
   "cell_type": "code",
   "execution_count": 5,
   "metadata": {},
   "outputs": [
    {
     "name": "stdout",
     "output_type": "stream",
     "text": [
      "Added user message to memory: Use the tool to answer: what kind of documents are in your database?\n",
      "=== Calling Function ===\n",
      "Calling function: query_engine_tool with args: {\"input\":\"What kind of documents are in your database?\"}\n",
      "Got output: The documents in the database include information on various topics such as the potential use of animals by humans, evolutionary backgrounds of species, and taxonomic classifications.\n",
      "========================\n",
      "\n"
     ]
    }
   ],
   "source": [
    "# non streaming chat\n",
    "response = chat_engine.chat(\n",
    "    \"Use the tool to answer: what kind of documents are in your database?\"\n",
    ")"
   ]
  },
  {
   "cell_type": "code",
   "execution_count": 6,
   "metadata": {},
   "outputs": [
    {
     "name": "stdout",
     "output_type": "stream",
     "text": [
      "The documents in the database cover a range of topics, including:\n",
      "\n",
      "- The potential use of animals by humans\n",
      "- Evolutionary backgrounds of species\n",
      "- Taxonomic classifications\n"
     ]
    }
   ],
   "source": [
    "print(response.response)"
   ]
  }
 ],
 "metadata": {
  "kernelspec": {
   "display_name": "venv",
   "language": "python",
   "name": "python3"
  },
  "language_info": {
   "codemirror_mode": {
    "name": "ipython",
    "version": 3
   },
   "file_extension": ".py",
   "mimetype": "text/x-python",
   "name": "python",
   "nbconvert_exporter": "python",
   "pygments_lexer": "ipython3",
   "version": "3.11.3"
  }
 },
 "nbformat": 4,
 "nbformat_minor": 2
}
