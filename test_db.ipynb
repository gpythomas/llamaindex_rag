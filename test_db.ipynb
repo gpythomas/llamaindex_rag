{
 "cells": [
  {
   "cell_type": "code",
   "execution_count": 1,
   "metadata": {},
   "outputs": [],
   "source": [
    "import os\n",
    "\n",
    "import openai\n",
    "from llama_index.embeddings.openai import OpenAIEmbedding\n",
    "\n",
    "import chromadb\n",
    "from llama_index.core import VectorStoreIndex, SimpleDirectoryReader\n",
    "from llama_index.vector_stores.chroma import ChromaVectorStore # pip install llama-index-vector-stores-chroma\n",
    "from llama_index.core import StorageContext\n",
    "from llama_index.core import Settings"
   ]
  },
  {
   "cell_type": "code",
   "execution_count": 2,
   "metadata": {},
   "outputs": [],
   "source": [
    "# https://docs.llamaindex.ai/en/stable/module_guides/models/embeddings/\n",
    "# https://docs.llamaindex.ai/en/stable/examples/embeddings/OpenAI/\n",
    "\n",
    "openai.api_key = os.environ[\"OPENAI_API_KEY\"]\n",
    "embed_model = OpenAIEmbedding(model=\"text-embedding-3-small\")\n",
    "\n",
    "# initialize index\n",
    "index = None\n",
    "def initialize_index():\n",
    "    global index\n",
    "    collection_name = \"MyCollection\"\n",
    "    db = chromadb.PersistentClient(path=\"./chroma_db\")\n",
    "    chroma_collection = db.get_or_create_collection(collection_name)\n",
    "    vector_store = ChromaVectorStore(chroma_collection=chroma_collection)\n",
    "    index = VectorStoreIndex.from_vector_store(\n",
    "        vector_store = vector_store,\n",
    "        embed_model=embed_model\n",
    "    )\n",
    "\n",
    "initialize_index()"
   ]
  },
  {
   "cell_type": "code",
   "execution_count": null,
   "metadata": {},
   "outputs": [],
   "source": [
    "# test simple queries of database\n",
    "\n",
    "query_engine = index.as_query_engine()\n",
    "response = query_engine.query(\"What kind of documents are in your database?\")\n",
    "print(response)\n"
   ]
  },
  {
   "cell_type": "code",
   "execution_count": 4,
   "metadata": {},
   "outputs": [],
   "source": [
    "# test chat with database\n",
    "\n",
    "# https://docs.llamaindex.ai/en/stable/examples/chat_engine/chat_engine_openai/\n",
    "\n",
    "from llama_index.llms.openai import OpenAI\n",
    "\n",
    "llm = OpenAI(model=\"gpt-4o\")\n",
    "\n",
    "system_prompt = 'You are a helpful and friendly chatbot.'\n",
    "\n",
    "chat_engine = index.as_chat_engine(\n",
    "    chat_mode=\"openai\",\n",
    "    llm=llm,\n",
    "    system_prompt = system_prompt,\n",
    "    verbose=True\n",
    ")"
   ]
  },
  {
   "cell_type": "code",
   "execution_count": null,
   "metadata": {},
   "outputs": [],
   "source": [
    "# non streaming chat\n",
    "response = chat_engine.chat(\n",
    "    \"Use the tool to answer: what kind of documents are in your database?\"\n",
    ")"
   ]
  },
  {
   "cell_type": "code",
   "execution_count": null,
   "metadata": {},
   "outputs": [],
   "source": [
    "print(response.response)"
   ]
  }
 ],
 "metadata": {
  "kernelspec": {
   "display_name": "venv",
   "language": "python",
   "name": "python3"
  },
  "language_info": {
   "codemirror_mode": {
    "name": "ipython",
    "version": 3
   },
   "file_extension": ".py",
   "mimetype": "text/x-python",
   "name": "python",
   "nbconvert_exporter": "python",
   "pygments_lexer": "ipython3",
   "version": "3.11.3"
  }
 },
 "nbformat": 4,
 "nbformat_minor": 2
}
